{
 "cells": [
  {
   "cell_type": "code",
   "execution_count": 8,
   "metadata": {},
   "outputs": [],
   "source": [
    "import os\n",
    "import re\n",
    "import pandas as pd\n",
    "\n",
    "# Caminho da pasta que contém os arquivos .txt\n",
    "pasta = 'txt'"
   ]
  },
  {
   "cell_type": "code",
   "execution_count": 7,
   "metadata": {},
   "outputs": [
    {
     "name": "stdout",
     "output_type": "stream",
     "text": [
      "Conteúdo de todos os arquivos foi juntado em: arquivo_junto.txt\n"
     ]
    }
   ],
   "source": [
    "# Nome do arquivo final onde o conteúdo será concatenado\n",
    "arquivo_final = 'arquivo_junto.txt'\n",
    "\n",
    "# Lista todos os arquivos .txt na pasta\n",
    "arquivos_txt = [f for f in os.listdir(pasta) if f.endswith('.txt')]\n",
    "\n",
    "# Abre o arquivo final para escrita\n",
    "with open(arquivo_final, 'w', encoding='utf-8') as file_final:\n",
    "    # Loop para ler e escrever o conteúdo de cada arquivo\n",
    "    for arquivo in arquivos_txt:\n",
    "        with open(os.path.join(pasta, arquivo), 'r', encoding='utf-8') as file:\n",
    "            conteudo = file.read()\n",
    "            file_final.write(conteudo + \"\\n\\n\")  # Adiciona o conteúdo do arquivo\n",
    "\n",
    "\n",
    "print(f'Conteúdo de todos os arquivos foi juntado em: {arquivo_final}')"
   ]
  },
  {
   "cell_type": "code",
   "execution_count": null,
   "metadata": {},
   "outputs": [],
   "source": [
    "# Expressão regular para identificar a sequência de número + \"Q\" + número\n",
    "padrao = r'(\\d+)\\n(Q\\d+)'\n",
    "\n",
    "# Abre o arquivo final para leitura\n",
    "with open(arquivo_final, 'r', encoding='utf-8') as file_final:\n",
    "    conteudo = file_final.read()\n",
    "\n",
    "    # Substitui os padrões encontrados por uma quebra de linha extra\n",
    "    conteudo_processado = re.sub(padrao, r'\\1\\n\\2', conteudo)\n",
    "\n",
    "# Separa o conteúdo processado por quebras de linha\n",
    "linhas = conteudo_processado.splitlines()\n",
    "\n",
    "# Cria um DataFrame com uma única coluna\n",
    "df = pd.DataFrame(linhas, columns=['Conteudo'])\n",
    "\n",
    "# Exibe o DataFrame para verificar\n",
    "print(df)\n"
   ]
  }
 ],
 "metadata": {
  "kernelspec": {
   "display_name": "Python 3",
   "language": "python",
   "name": "python3"
  },
  "language_info": {
   "codemirror_mode": {
    "name": "ipython",
    "version": 3
   },
   "file_extension": ".py",
   "mimetype": "text/x-python",
   "name": "python",
   "nbconvert_exporter": "python",
   "pygments_lexer": "ipython3",
   "version": "3.12.1"
  }
 },
 "nbformat": 4,
 "nbformat_minor": 2
}
